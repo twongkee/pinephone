{
 "cells": [
  {
   "cell_type": "markdown",
   "id": "3fe7b655-471b-4142-b556-75346230d59a",
   "metadata": {
    "tags": []
   },
   "source": [
    "# Experimental notebook\n",
    "not meant to run all cells in sequence, some will conflict/repeat"
   ]
  },
  {
   "cell_type": "code",
   "execution_count": null,
   "id": "91abc11d-1d16-4152-81bb-6975f74317b3",
   "metadata": {
    "tags": []
   },
   "outputs": [],
   "source": [
    "from PIL import Image\n",
    "import numpy as np\n",
    "from matplotlib import pyplot as plt"
   ]
  },
  {
   "cell_type": "code",
   "execution_count": null,
   "id": "bd372fdd-2722-4352-847c-4d8635d91d1f",
   "metadata": {
    "tags": []
   },
   "outputs": [],
   "source": [
    "# my path, on various days in february...\n",
    "raw = np.fromfile('/home/mobian/Pictures/CLI_20230207T094237.raw', np.uint8) "
   ]
  },
  {
   "cell_type": "code",
   "execution_count": null,
   "id": "ea0d6dd5-83ec-4056-aca4-75a5862a02a4",
   "metadata": {
    "tags": []
   },
   "outputs": [],
   "source": [
    "\n",
    "# prgg 8 bit bayer\n",
    "raw = np.fromfile('/home/mobian/Pictures/CLI_20230208T135403.raw', np.uint8) "
   ]
  },
  {
   "cell_type": "code",
   "execution_count": null,
   "id": "d570e302-501a-497b-b907-db310c41e4ed",
   "metadata": {
    "tags": []
   },
   "outputs": [],
   "source": [
    "#yuv \n",
    "raw = np.fromfile('/home/mobian/Pictures/CLI_yuv_20230209T081132.raw', np.uint8)"
   ]
  },
  {
   "cell_type": "code",
   "execution_count": null,
   "id": "eb2db034-1307-4f26-b5e1-ab5ae3dc3d50",
   "metadata": {
    "tags": []
   },
   "outputs": [],
   "source": [
    "# 16bit bayer\n",
    "raw = np.fromfile('/home/mobian/Pictures/CLI_20230209T141730.raw', np.uint8)"
   ]
  },
  {
   "cell_type": "code",
   "execution_count": null,
   "id": "375f2016-e56c-4449-a454-93ce2acd036a",
   "metadata": {
    "tags": []
   },
   "outputs": [],
   "source": [
    "print(raw[0])"
   ]
  },
  {
   "cell_type": "code",
   "execution_count": null,
   "id": "14fc3034-ad4e-4c5b-b1c0-2b42f366c3a5",
   "metadata": {
    "tags": []
   },
   "outputs": [],
   "source": [
    "#extra large\n",
    "w=4208\n",
    "h=3120"
   ]
  },
  {
   "cell_type": "code",
   "execution_count": null,
   "id": "e196274d-bf30-4989-8a26-7c754aea73f3",
   "metadata": {
    "tags": []
   },
   "outputs": [],
   "source": [
    "#smaller version\n",
    "w=4032\n",
    "h=3024\n"
   ]
  },
  {
   "cell_type": "code",
   "execution_count": null,
   "id": "67cf842c-b668-4025-af16-3968c48716a3",
   "metadata": {
    "tags": []
   },
   "outputs": [],
   "source": [
    "# test to create bright dots in reglular pattern \n",
    "for x in range (26,w,16):\n",
    "    for y in range (29*2,h,2*16):\n",
    "        #print(w*y+x, end=\" \")\n",
    "        raw[w*y+x] = 255"
   ]
  },
  {
   "cell_type": "code",
   "execution_count": null,
   "id": "db3c1c7d-ff45-4702-a625-4d8ea2ec9d98",
   "metadata": {
    "tags": []
   },
   "outputs": [],
   "source": [
    "# this cell for the 8 bit version\n",
    "# simple obvious average \n",
    "g=16\n",
    "for x in range(0,w-g*4,g):\n",
    "    for y in range(0,h-g*4,g*2):\n",
    "        #      y     x                  y-2                       y+2                             x-2                       x+2\n",
    "        raw[w*(29+y)+26+x]= ( int(raw[w*(27+y)+26+x]) + int(raw[w*(31+y)+26+x]) + int(raw[w*(29+y)+24+x]) + int(raw[w*(29+y)+28+x]) ) /4\n",
    "        raw[w*(32+y)+25+x]= ( int(raw[w*(30+y)+25+x]) + int(raw[w*(34+y)+25+x]) + int(raw[w*(32+y)+23+x]) + int(raw[w*(32+y)+27+x]) ) /4\n",
    "        raw[w*(45+y)+34+x]= ( int(raw[w*(43+y)+34+x]) + int(raw[w*(47+y)+34+x]) + int(raw[w*(45+y)+32+x]) + int(raw[w*(45+y)+36+x]) ) /4\n",
    "        raw[w*(48+y)+33+x]= ( int(raw[w*(46+y)+33+x]) + int(raw[w*(50+y)+33+x]) + int(raw[w*(48+y)+31+x]) + int(raw[w*(48+y)+35+x]) ) /4\n",
    "\n",
    "raw.tofile('/home/mobian/Pictures/numpy.raw')  "
   ]
  },
  {
   "cell_type": "code",
   "execution_count": null,
   "id": "7ed9c39a-f546-4b72-ac28-fd68287b6d01",
   "metadata": {
    "tags": []
   },
   "outputs": [],
   "source": [
    "# test to make bright dots\n",
    "g=16 #gap\n",
    "for x in range(0,w,g):\n",
    "    for y in range(0,h,g*2):\n",
    "        \n",
    "        #print(x,y)\n",
    "        raw[(29+y)*w+26+x]= 255\n",
    "        raw[(32+y)*w+25+x]= 255\n",
    "        raw[(45+y)*w+34+x]= 255\n",
    "        raw[(48+y)*w+33+x]= 255\n",
    "        \n",
    "raw.tofile('/home/mobian/Pictures/numpy_bright.raw')  "
   ]
  },
  {
   "cell_type": "code",
   "execution_count": null,
   "id": "5e66303f-46e2-427d-beb4-8fbe2889b6d5",
   "metadata": {},
   "outputs": [],
   "source": [
    "## this cell for 8 bit versions\n",
    "# with fix function (if want to change from  average)\n",
    "g=16\n",
    "\n",
    "\n",
    "def fix(arr,x,y):\n",
    "    avg = ( int(arr[2*w+x+y]) + int(arr[-2*w+x+y]) + int(arr[x+y+2]) + int(arr[x+y-2]) ) /4\n",
    "    return avg\n",
    "\n",
    "for x in range(0,4000,g):\n",
    "    for y in range(0,3008,g*2):\n",
    "        raw[w*(29  +y)+26    +x]= fix(raw,w*(29+y),26+x)\n",
    "        raw[w*(32  +y)+25    +x]= fix(raw,w*(32+y),25+x)\n",
    "\n",
    "        raw[w*(29+g+y)+26+g-8+x]= fix(raw,w*(45+y),34+x)\n",
    "        raw[w*(32+g+y)+25+g-8+x]= fix(raw,w*(48+y),33+x)\n",
    "\n",
    "raw.tofile('/home/mobian/Pictures/numpy.raw')  "
   ]
  },
  {
   "cell_type": "code",
   "execution_count": null,
   "id": "5efaac95-2685-4ba6-9645-f19eb04ed217",
   "metadata": {
    "tags": []
   },
   "outputs": [],
   "source": [
    "## this cell for the 16 bit version\n",
    "\n",
    "g32=32\n",
    "def fix(arr,x,y):\n",
    "    avg = ( int(arr[4*w+x+y]) + int(arr[-4*w+x+y]) + int(arr[x+y+4]) + int(arr[x+y-4]) ) /4\n",
    "    return avg\n",
    "\n",
    "for x in range(0,(w-g32*2)*2,g32):\n",
    "    for y in range(0,(h-g32*2)*2,g32*2):\n",
    "        #print(w*(29  +y)+26    +x, end=\" \")\n",
    "        raw[w*(29*2  +y)+26*2    +x]= fix(raw,w*(29*2+y),26*2+x) #good\n",
    "        raw[w*(32*2  +y)+25*2    +x]= fix(raw,w*(32*2+y),25*2+x) #good\n",
    "\n",
    "        raw[w*(29*2+g32+y)+26*2+g32-g32/2+x]= fix(raw,w*(45*2+y),34*2+x)\n",
    "        raw[w*(32*2+g32+y)+25*2+g32-g32/2+x]= fix(raw,w*(48*2+y),33*2+x)\n",
    "\n",
    "raw.tofile('/home/mobian/Pictures/numpy.raw')"
   ]
  },
  {
   "cell_type": "code",
   "execution_count": null,
   "id": "cbea4e3c-5856-44a1-af0c-fab40304eab7",
   "metadata": {
    "tags": []
   },
   "outputs": [],
   "source": [
    "# various tests to break large raw file into different slices\n",
    "c1=raw[0::2]\n",
    "c2=raw[1::4]\n",
    "c3=raw[3::4]"
   ]
  },
  {
   "cell_type": "code",
   "execution_count": null,
   "id": "629dd5c7-e41a-4359-b0ec-5f8e4e4fb764",
   "metadata": {
    "tags": []
   },
   "outputs": [],
   "source": [
    "# create the array for matplot\n",
    "# x & y seem to need to be reversed? must be in docs somewhere \n",
    "\n",
    "# upper corner start point\n",
    "px=0\n",
    "py=0\n",
    "# size of image slice\n",
    "square=100\n",
    "testarray=np.eye(square)\n",
    "for y in range(0,square):\n",
    "    for x in range(0,square):\n",
    "        value = raw[w*(x + px) + (y + py)]\n",
    "        testarray[x][y] = int(value)"
   ]
  },
  {
   "cell_type": "code",
   "execution_count": null,
   "id": "1bf157b8-87f0-43fb-936e-90adced04ac9",
   "metadata": {
    "tags": []
   },
   "outputs": [],
   "source": [
    "print(testarray)"
   ]
  },
  {
   "cell_type": "code",
   "execution_count": null,
   "id": "61c5caba-5e25-48a8-956e-b1e0dc774ad0",
   "metadata": {
    "tags": []
   },
   "outputs": [],
   "source": [
    "# display array\n",
    "im = Image.fromarray(np.uint8(testarray))\n",
    "plt.imshow(im)\n",
    "plt.rcParams['figure.figsize'] = (10,10)  # on my system, need to run this cell twice if you change the figsize numbers\n",
    "plt.show()"
   ]
  },
  {
   "cell_type": "code",
   "execution_count": null,
   "id": "87630f83-51df-4df3-a241-26ddba54f92c",
   "metadata": {},
   "outputs": [],
   "source": []
  },
  {
   "cell_type": "code",
   "execution_count": null,
   "id": "05880c28-9c9d-4bf9-b1f5-1a8931a69251",
   "metadata": {},
   "outputs": [],
   "source": []
  },
  {
   "cell_type": "code",
   "execution_count": null,
   "id": "4b3e2f54-af18-42bc-ae65-90c0123846cd",
   "metadata": {},
   "outputs": [],
   "source": []
  }
 ],
 "metadata": {
  "kernelspec": {
   "display_name": "Python 3 (ipykernel)",
   "language": "python",
   "name": "python3"
  },
  "language_info": {
   "codemirror_mode": {
    "name": "ipython",
    "version": 3
   },
   "file_extension": ".py",
   "mimetype": "text/x-python",
   "name": "python",
   "nbconvert_exporter": "python",
   "pygments_lexer": "ipython3",
   "version": "3.11.1"
  }
 },
 "nbformat": 4,
 "nbformat_minor": 5
}
